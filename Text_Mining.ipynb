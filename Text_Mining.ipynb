{
  "cells": [
    {
      "cell_type": "markdown",
      "metadata": {
        "id": "Rhz_MhRA3lzf"
      },
      "source": [
        "# Working With Text"
      ]
    },
    {
      "cell_type": "code",
      "execution_count": 1,
      "metadata": {
        "colab": {
          "base_uri": "https://localhost:8080/"
        },
        "id": "fNycWPQv3lzh",
        "outputId": "3137460b-4297-4631-bfb2-7933cc79ae89"
      },
      "outputs": [
        {
          "output_type": "execute_result",
          "data": {
            "text/plain": [
              "53"
            ]
          },
          "metadata": {},
          "execution_count": 1
        }
      ],
      "source": [
        "text1 = \" Python is the most wide useful Programming Language \"\n",
        "\n",
        "len(text1) # The length of text1"
      ]
    },
    {
      "cell_type": "code",
      "execution_count": 2,
      "metadata": {
        "colab": {
          "base_uri": "https://localhost:8080/"
        },
        "id": "y_WPFQpF3lzm",
        "outputId": "2ff7c1ad-987f-4166-b698-da3f5daafbcf"
      },
      "outputs": [
        {
          "output_type": "execute_result",
          "data": {
            "text/plain": [
              "10"
            ]
          },
          "metadata": {},
          "execution_count": 2
        }
      ],
      "source": [
        "text2 = text1.split(' ') # Return a list of the words in text2, separating by ' '.\n",
        "\n",
        "len(text2)"
      ]
    },
    {
      "cell_type": "code",
      "execution_count": 3,
      "metadata": {
        "colab": {
          "base_uri": "https://localhost:8080/"
        },
        "id": "1nmEj8U23lzn",
        "outputId": "90ded507-755e-4748-e436-f07348303f15"
      },
      "outputs": [
        {
          "output_type": "execute_result",
          "data": {
            "text/plain": [
              "['',\n",
              " 'Python',\n",
              " 'is',\n",
              " 'the',\n",
              " 'most',\n",
              " 'wide',\n",
              " 'useful',\n",
              " 'Programming',\n",
              " 'Language',\n",
              " '']"
            ]
          },
          "metadata": {},
          "execution_count": 3
        }
      ],
      "source": [
        "text2"
      ]
    },
    {
      "cell_type": "markdown",
      "metadata": {
        "id": "AXlIx9NO3lzq"
      },
      "source": [
        "<br>\n",
        "List comprehension allows us to find specific words:"
      ]
    },
    {
      "cell_type": "code",
      "execution_count": 4,
      "metadata": {
        "colab": {
          "base_uri": "https://localhost:8080/"
        },
        "id": "JmFG0fuE3lz1",
        "outputId": "9d207345-377d-45fb-a964-e61123cfd0cc"
      },
      "outputs": [
        {
          "output_type": "execute_result",
          "data": {
            "text/plain": [
              "['Python', 'most', 'wide', 'useful', 'Programming', 'Language']"
            ]
          },
          "metadata": {},
          "execution_count": 4
        }
      ],
      "source": [
        "[w for w in text2 if len(w) > 3] # Words that are greater than 3 letters long in text2"
      ]
    },
    {
      "cell_type": "code",
      "execution_count": 5,
      "metadata": {
        "colab": {
          "base_uri": "https://localhost:8080/"
        },
        "id": "-k0F_-Ud3lz6",
        "outputId": "3e9e9aca-0603-4f7f-e342-9a6973bafca3"
      },
      "outputs": [
        {
          "output_type": "execute_result",
          "data": {
            "text/plain": [
              "['Python', 'Programming', 'Language']"
            ]
          },
          "metadata": {},
          "execution_count": 5
        }
      ],
      "source": [
        "[w for w in text2 if w.istitle()] # Capitalized words in text2"
      ]
    },
    {
      "cell_type": "code",
      "execution_count": 6,
      "metadata": {
        "colab": {
          "base_uri": "https://localhost:8080/"
        },
        "id": "Cpw9sTvw3lz-",
        "outputId": "a567c11b-858b-4e5e-e2d2-e05de354ce2f"
      },
      "outputs": [
        {
          "output_type": "execute_result",
          "data": {
            "text/plain": [
              "['is']"
            ]
          },
          "metadata": {},
          "execution_count": 6
        }
      ],
      "source": [
        "[w for w in text2 if w.endswith('s')] # Words in text2 that end in 's'"
      ]
    },
    {
      "cell_type": "markdown",
      "metadata": {
        "id": "yQ91kt1C3l0F"
      },
      "source": [
        "<br>\n",
        "We can find unique words using `set()`."
      ]
    },
    {
      "cell_type": "code",
      "execution_count": 7,
      "metadata": {
        "collapsed": true,
        "colab": {
          "base_uri": "https://localhost:8080/"
        },
        "id": "D8O1gqeh3l0G",
        "outputId": "14e9464e-e3b2-448a-f744-3a5838851787"
      },
      "outputs": [
        {
          "output_type": "execute_result",
          "data": {
            "text/plain": [
              "6"
            ]
          },
          "metadata": {},
          "execution_count": 7
        }
      ],
      "source": [
        "text3 = 'To be or not to be'\n",
        "text4 = text3.split(' ')\n",
        "\n",
        "len(text4)"
      ]
    },
    {
      "cell_type": "code",
      "execution_count": 8,
      "metadata": {
        "collapsed": true,
        "colab": {
          "base_uri": "https://localhost:8080/"
        },
        "id": "qkwkMUx03l0H",
        "outputId": "2137c4fa-33cc-4be0-9981-413c0a3fb515"
      },
      "outputs": [
        {
          "output_type": "execute_result",
          "data": {
            "text/plain": [
              "5"
            ]
          },
          "metadata": {},
          "execution_count": 8
        }
      ],
      "source": [
        "len(set(text4))"
      ]
    },
    {
      "cell_type": "code",
      "execution_count": 9,
      "metadata": {
        "collapsed": true,
        "colab": {
          "base_uri": "https://localhost:8080/"
        },
        "id": "RAolCdja3l0J",
        "outputId": "33be0e9e-0ab3-4e9f-fe29-f1e2b332eed8"
      },
      "outputs": [
        {
          "output_type": "execute_result",
          "data": {
            "text/plain": [
              "{'To', 'be', 'not', 'or', 'to'}"
            ]
          },
          "metadata": {},
          "execution_count": 9
        }
      ],
      "source": [
        "set(text4)"
      ]
    },
    {
      "cell_type": "code",
      "execution_count": 10,
      "metadata": {
        "collapsed": true,
        "colab": {
          "base_uri": "https://localhost:8080/"
        },
        "id": "aQp5FBml3l0K",
        "outputId": "3d04e27e-34db-4743-94df-f68610abe630"
      },
      "outputs": [
        {
          "output_type": "execute_result",
          "data": {
            "text/plain": [
              "4"
            ]
          },
          "metadata": {},
          "execution_count": 10
        }
      ],
      "source": [
        "len(set([w.lower() for w in text4])) # .lower converts the string to lowercase."
      ]
    },
    {
      "cell_type": "code",
      "execution_count": 11,
      "metadata": {
        "collapsed": true,
        "colab": {
          "base_uri": "https://localhost:8080/"
        },
        "id": "ntT_6hzh3l0L",
        "outputId": "6d54bb99-4fc0-4e08-a3ea-e2296ee3ff90"
      },
      "outputs": [
        {
          "output_type": "execute_result",
          "data": {
            "text/plain": [
              "{'be', 'not', 'or', 'to'}"
            ]
          },
          "metadata": {},
          "execution_count": 11
        }
      ],
      "source": [
        "set([w.lower() for w in text4])"
      ]
    },
    {
      "cell_type": "markdown",
      "metadata": {
        "id": "hFzo1l503l0L"
      },
      "source": [
        "### Processing free-text"
      ]
    },
    {
      "cell_type": "code",
      "execution_count": 17,
      "metadata": {
        "collapsed": true,
        "colab": {
          "base_uri": "https://localhost:8080/"
        },
        "id": "3N6Bnota3l0M",
        "outputId": "0d653333-af24-411f-e274-8ab79b6780a4"
      },
      "outputs": [
        {
          "output_type": "execute_result",
          "data": {
            "text/plain": [
              "['',\n",
              " '\"Regular',\n",
              " 'Expression',\n",
              " '',\n",
              " 'is',\n",
              " 'useful',\n",
              " 'in',\n",
              " 'the',\n",
              " 'preprocessing',\n",
              " 'of',\n",
              " 'NLP\"',\n",
              " '#REGEX',\n",
              " '@Python']"
            ]
          },
          "metadata": {},
          "execution_count": 17
        }
      ],
      "source": [
        "text5 = ' \"Regular Expression  is useful in the preprocessing of NLP\" \\\n",
        "#REGEX @Python'\n",
        "text6 = text5.split(' ')\n",
        "\n",
        "text6"
      ]
    },
    {
      "cell_type": "markdown",
      "metadata": {
        "id": "ByovvtPU3l0N"
      },
      "source": [
        "<br>\n",
        "Finding hastags:"
      ]
    },
    {
      "cell_type": "code",
      "execution_count": 18,
      "metadata": {
        "collapsed": true,
        "colab": {
          "base_uri": "https://localhost:8080/"
        },
        "id": "jHhVWTI63l0O",
        "outputId": "df3a2dc4-34e9-4cfd-feb8-7b0faa381a03"
      },
      "outputs": [
        {
          "output_type": "execute_result",
          "data": {
            "text/plain": [
              "['#REGEX']"
            ]
          },
          "metadata": {},
          "execution_count": 18
        }
      ],
      "source": [
        "[w for w in text6 if w.startswith('#')]"
      ]
    },
    {
      "cell_type": "markdown",
      "metadata": {
        "id": "JKWXrlWo3l0P"
      },
      "source": [
        "<br>\n",
        "Finding callouts:"
      ]
    },
    {
      "cell_type": "code",
      "execution_count": 19,
      "metadata": {
        "collapsed": true,
        "colab": {
          "base_uri": "https://localhost:8080/"
        },
        "id": "gzK8z2aG3l0Q",
        "outputId": "e7080d31-f245-445d-f031-5229102ef9aa"
      },
      "outputs": [
        {
          "output_type": "execute_result",
          "data": {
            "text/plain": [
              "['@Python']"
            ]
          },
          "metadata": {},
          "execution_count": 19
        }
      ],
      "source": [
        "[w for w in text6 if w.startswith('@')]"
      ]
    },
    {
      "cell_type": "code",
      "execution_count": 20,
      "metadata": {
        "collapsed": true,
        "id": "sL4U0t0X3l0Q"
      },
      "outputs": [],
      "source": [
        "text7 = '@UN @UN_Women \"Ethics are built right into the ideals and objectives of the United Nations\" \\\n",
        "#UNSG @ NY Society for Ethical Culture bit.ly/2guVelr'\n",
        "text8 = text7.split(' ')"
      ]
    },
    {
      "cell_type": "markdown",
      "metadata": {
        "id": "k2yTWuhm3l0R"
      },
      "source": [
        "<br>\n",
        "\n",
        "We can use regular expressions to help us with more complex parsing. \n",
        "\n",
        "For example `'@[A-Za-z0-9_]+'` will return all words that: \n",
        "* start with `'@'` and are followed by at least one: \n",
        "* capital letter (`'A-Z'`)\n",
        "* lowercase letter (`'a-z'`) \n",
        "* number (`'0-9'`)\n",
        "* or underscore (`'_'`)"
      ]
    },
    {
      "cell_type": "code",
      "execution_count": 21,
      "metadata": {
        "collapsed": true,
        "colab": {
          "base_uri": "https://localhost:8080/"
        },
        "id": "Xj6_kyxc3l0T",
        "outputId": "3f788de5-0384-4f52-fa22-a6af33e07a2b"
      },
      "outputs": [
        {
          "output_type": "execute_result",
          "data": {
            "text/plain": [
              "['@UN', '@UN_Women']"
            ]
          },
          "metadata": {},
          "execution_count": 21
        }
      ],
      "source": [
        "import re # import re - a module that provides support for regular expressions\n",
        "\n",
        "[w for w in text8 if re.search('@[A-Za-z0-9_]+', w)]"
      ]
    }
  ],
  "metadata": {
    "kernelspec": {
      "display_name": "Python 3",
      "language": "python",
      "name": "python3"
    },
    "language_info": {
      "codemirror_mode": {
        "name": "ipython",
        "version": 3
      },
      "file_extension": ".py",
      "mimetype": "text/x-python",
      "name": "python",
      "nbconvert_exporter": "python",
      "pygments_lexer": "ipython3",
      "version": "3.6.2"
    },
    "colab": {
      "name": "Text-Mining.ipynb",
      "provenance": []
    }
  },
  "nbformat": 4,
  "nbformat_minor": 0
}